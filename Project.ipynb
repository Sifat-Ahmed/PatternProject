{
 "cells": [
  {
   "cell_type": "markdown",
   "metadata": {},
   "source": [
    "## Import Modules"
   ]
  },
  {
   "cell_type": "code",
   "execution_count": 1,
   "metadata": {},
   "outputs": [],
   "source": [
    "import warnings\n",
    "warnings.filterwarnings('always')\n",
    "warnings.filterwarnings('ignore')\n",
    "\n",
    "from sklearn.preprocessing import LabelEncoder\n",
    "from mlxtend.plotting import plot_decision_regions\n",
    "\n",
    "import re\n",
    "import numpy as np\n",
    "import pandas as pd\n",
    "\n",
    "import matplotlib.pyplot as plt\n",
    "import seaborn as sns\n",
    "\n",
    "%matplotlib inline\n",
    "\n",
    "plt.rc('figure', figsize=(15.0, 10.0))"
   ]
  },
  {
   "cell_type": "code",
   "execution_count": 2,
   "metadata": {},
   "outputs": [],
   "source": [
    "DATASET = r'Dataset/dataset.csv'"
   ]
  },
  {
   "cell_type": "code",
   "execution_count": 3,
   "metadata": {},
   "outputs": [],
   "source": [
    "dataset = pd.read_csv(DATASET, sep=',', index_col=0, encoding = \"ISO-8859-1\")"
   ]
  },
  {
   "cell_type": "markdown",
   "metadata": {},
   "source": [
    "## Dataset Preprocessing"
   ]
  },
  {
   "cell_type": "code",
   "execution_count": 4,
   "metadata": {
    "scrolled": true
   },
   "outputs": [
    {
     "data": {
      "text/plain": [
       "(86, 16)"
      ]
     },
     "execution_count": 4,
     "metadata": {},
     "output_type": "execute_result"
    }
   ],
   "source": [
    "dataset.shape"
   ]
  },
  {
   "cell_type": "code",
   "execution_count": 5,
   "metadata": {
    "scrolled": true
   },
   "outputs": [
    {
     "data": {
      "text/plain": [
       "<matplotlib.axes._subplots.AxesSubplot at 0x1b14fc08b38>"
      ]
     },
     "execution_count": 5,
     "metadata": {},
     "output_type": "execute_result"
    },
    {
     "data": {
      "image/png": "[encoded data removed]",
      "text/plain": [
       "<Figure size 432x288 with 1 Axes>"
      ]
     },
     "metadata": {
      "needs_background": "light"
     },
     "output_type": "display_data"
    }
   ],
   "source": [
    "dataset.isnull().sum(axis=0).plot(kind='bar')"
   ]
  },
  {
   "cell_type": "code",
   "execution_count": 6,
   "metadata": {},
   "outputs": [
    {
     "data": {
      "text/html": [
       "<div>\n",
       "<style scoped>\n",
       "    .dataframe tbody tr th:only-of-type {\n",
       "        vertical-align: middle;\n",
       "    }\n",
       "\n",
       "    .dataframe tbody tr th {\n",
       "        vertical-align: top;\n",
       "    }\n",
       "\n",
       "    .dataframe thead th {\n",
       "        text-align: right;\n",
       "    }\n",
       "</style>\n",
       "<table border=\"1\" class=\"dataframe\">\n",
       "  <thead>\n",
       "    <tr style=\"text-align: right;\">\n",
       "      <th></th>\n",
       "      <th>id</th>\n",
       "      <th>expected_food_price</th>\n",
       "      <th>month_cost</th>\n",
       "      <th>travel_budget</th>\n",
       "      <th>num_home_delivery</th>\n",
       "      <th>num_visit</th>\n",
       "      <th>monthly_earn</th>\n",
       "    </tr>\n",
       "  </thead>\n",
       "  <tbody>\n",
       "    <tr>\n",
       "      <th>id</th>\n",
       "      <td>1.000000</td>\n",
       "      <td>0.032128</td>\n",
       "      <td>0.054449</td>\n",
       "      <td>0.165974</td>\n",
       "      <td>-0.165129</td>\n",
       "      <td>0.123032</td>\n",
       "      <td>0.057154</td>\n",
       "    </tr>\n",
       "    <tr>\n",
       "      <th>expected_food_price</th>\n",
       "      <td>0.032128</td>\n",
       "      <td>1.000000</td>\n",
       "      <td>0.183736</td>\n",
       "      <td>0.005755</td>\n",
       "      <td>0.025382</td>\n",
       "      <td>0.051319</td>\n",
       "      <td>-0.056743</td>\n",
       "    </tr>\n",
       "    <tr>\n",
       "      <th>month_cost</th>\n",
       "      <td>0.054449</td>\n",
       "      <td>0.183736</td>\n",
       "      <td>1.000000</td>\n",
       "      <td>0.173276</td>\n",
       "      <td>0.115702</td>\n",
       "      <td>0.116579</td>\n",
       "      <td>0.101084</td>\n",
       "    </tr>\n",
       "    <tr>\n",
       "      <th>travel_budget</th>\n",
       "      <td>0.165974</td>\n",
       "      <td>0.005755</td>\n",
       "      <td>0.173276</td>\n",
       "      <td>1.000000</td>\n",
       "      <td>0.178392</td>\n",
       "      <td>0.140395</td>\n",
       "      <td>0.257500</td>\n",
       "    </tr>\n",
       "    <tr>\n",
       "      <th>num_home_delivery</th>\n",
       "      <td>-0.165129</td>\n",
       "      <td>0.025382</td>\n",
       "      <td>0.115702</td>\n",
       "      <td>0.178392</td>\n",
       "      <td>1.000000</td>\n",
       "      <td>0.017090</td>\n",
       "      <td>0.074649</td>\n",
       "    </tr>\n",
       "    <tr>\n",
       "      <th>num_visit</th>\n",
       "      <td>0.123032</td>\n",
       "      <td>0.051319</td>\n",
       "      <td>0.116579</td>\n",
       "      <td>0.140395</td>\n",
       "      <td>0.017090</td>\n",
       "      <td>1.000000</td>\n",
       "      <td>0.060098</td>\n",
       "    </tr>\n",
       "    <tr>\n",
       "      <th>monthly_earn</th>\n",
       "      <td>0.057154</td>\n",
       "      <td>-0.056743</td>\n",
       "      <td>0.101084</td>\n",
       "      <td>0.257500</td>\n",
       "      <td>0.074649</td>\n",
       "      <td>0.060098</td>\n",
       "      <td>1.000000</td>\n",
       "    </tr>\n",
       "  </tbody>\n",
       "</table>\n",
       "</div>"
      ],
      "text/plain": [
       "                           id  expected_food_price  month_cost  travel_budget  \\\n",
       "id                   1.000000             0.032128    0.054449       0.165974   \n",
       "expected_food_price  0.032128             1.000000    0.183736       0.005755   \n",
       "month_cost           0.054449             0.183736    1.000000       0.173276   \n",
       "travel_budget        0.165974             0.005755    0.173276       1.000000   \n",
       "num_home_delivery   -0.165129             0.025382    0.115702       0.178392   \n",
       "num_visit            0.123032             0.051319    0.116579       0.140395   \n",
       "monthly_earn         0.057154            -0.056743    0.101084       0.257500   \n",
       "\n",
       "                     num_home_delivery  num_visit  monthly_earn  \n",
       "id                           -0.165129   0.123032      0.057154  \n",
       "expected_food_price           0.025382   0.051319     -0.056743  \n",
       "month_cost                    0.115702   0.116579      0.101084  \n",
       "travel_budget                 0.178392   0.140395      0.257500  \n",
       "num_home_delivery             1.000000   0.017090      0.074649  \n",
       "num_visit                     0.017090   1.000000      0.060098  \n",
       "monthly_earn                  0.074649   0.060098      1.000000  "
      ]
     },
     "execution_count": 6,
     "metadata": {},
     "output_type": "execute_result"
    }
   ],
   "source": [
    "dataset.corr()"
   ]
  },
  {
   "cell_type": "code",
   "execution_count": 7,
   "metadata": {},
   "outputs": [
    {
     "data": {
      "text/plain": [
       "Index(['id', 'favorite_transport', 'favorite_food', 'expected_food_price',\n",
       "       'month_cost', 'delivery_preference', 'food_flavor',\n",
       "       'location_preferred', 'go_with', 'travel_budget', 'restaurant_location',\n",
       "       'rainy_season_pref', 'condition_pref', 'num_home_delivery', 'num_visit',\n",
       "       'monthly_earn'],\n",
       "      dtype='object')"
      ]
     },
     "execution_count": 7,
     "metadata": {},
     "output_type": "execute_result"
    }
   ],
   "source": [
    "dataset.columns"
   ]
  },
  {
   "cell_type": "code",
   "execution_count": 8,
   "metadata": {},
   "outputs": [],
   "source": [
    "int_col = ['id', 'expected_food_price', 'month_cost', 'travel_budget', 'num_home_delivery', 'num_visit', 'monthly_earn']\n",
    "str_col = set(dataset.columns) - set(int_col)"
   ]
  },
  {
   "cell_type": "code",
   "execution_count": 9,
   "metadata": {},
   "outputs": [],
   "source": [
    "str_col = list(str_col)"
   ]
  },
  {
   "cell_type": "code",
   "execution_count": 10,
   "metadata": {},
   "outputs": [],
   "source": [
    "for col in dataset.columns:\n",
    "    if col in int_col:\n",
    "        dataset[col] = dataset[col].fillna(0)\n",
    "        dataset[col] = dataset[col].astype(np.float64)\n",
    "    else:\n",
    "        dataset[col] = dataset[col].fillna(dataset[col].mode()[0])\n",
    "        dataset[col] = dataset[col].astype(str)\n",
    "        dataset[col] = dataset[col].str.lower()"
   ]
  },
  {
   "cell_type": "markdown",
   "metadata": {},
   "source": [
    "### Correlation among the numeric data"
   ]
  },
  {
   "cell_type": "code",
   "execution_count": 11,
   "metadata": {
    "scrolled": true
   },
   "outputs": [
    {
     "data": {
      "text/plain": [
       "<matplotlib.axes._subplots.AxesSubplot at 0x1b150015048>"
      ]
     },
     "execution_count": 11,
     "metadata": {},
     "output_type": "execute_result"
    },
    {
     "data": {
      "image/png": "[encoded data removed]",
      "text/plain": [
       "<Figure size 432x288 with 2 Axes>"
      ]
     },
     "metadata": {
      "needs_background": "light"
     },
     "output_type": "display_data"
    }
   ],
   "source": [
    "sns.heatmap(dataset.corr())"
   ]
  },
  {
   "cell_type": "code",
   "execution_count": 12,
   "metadata": {},
   "outputs": [
    {
     "data": {
      "text/plain": [
       "<matplotlib.axes._subplots.AxesSubplot at 0x1b1500c4400>"
      ]
     },
     "execution_count": 12,
     "metadata": {},
     "output_type": "execute_result"
    },
    {
     "data": {
      "image/png": "[encoded data removed]",
      "text/plain": [
       "<Figure size 432x288 with 1 Axes>"
      ]
     },
     "metadata": {
      "needs_background": "light"
     },
     "output_type": "display_data"
    }
   ],
   "source": [
    "dataset.isnull().sum(axis=0).plot(kind='bar')"
   ]
  },
  {
   "cell_type": "code",
   "execution_count": 13,
   "metadata": {},
   "outputs": [],
   "source": [
    "def plot_num(df,feature):\n",
    "    fig,axes=plt.subplots(1,2)\n",
    "    sns.boxplot(data=df,x=feature,ax=axes[0])\n",
    "    sns.distplot(a=df[feature],ax=axes[1],color='#ff4125')\n",
    "    fig.set_size_inches(15,5)"
   ]
  },
  {
   "cell_type": "markdown",
   "metadata": {},
   "source": [
    "## Univariate Analysis"
   ]
  },
  {
   "cell_type": "markdown",
   "metadata": {},
   "source": [
    "### Numeric Data"
   ]
  },
  {
   "cell_type": "code",
   "execution_count": 14,
   "metadata": {
    "scrolled": true
   },
   "outputs": [
    {
     "data": {
      "image/png": "[encoded data removed]",
      "text/plain": [
       "<Figure size 1080x360 with 2 Axes>"
      ]
     },
     "metadata": {
      "needs_background": "light"
     },
     "output_type": "display_data"
    }
   ],
   "source": [
    "plot_num(dataset,'month_cost')"
   ]
  },
  {
   "cell_type": "code",
   "execution_count": 15,
   "metadata": {},
   "outputs": [
    {
     "data": {
      "image/png": "[encoded data removed]",
      "text/plain": [
       "<Figure size 1080x360 with 2 Axes>"
      ]
     },
     "metadata": {
      "needs_background": "light"
     },
     "output_type": "display_data"
    }
   ],
   "source": [
    "plot_num(dataset,'expected_food_price')"
   ]
  },
  {
   "cell_type": "code",
   "execution_count": 16,
   "metadata": {},
   "outputs": [],
   "source": [
    "def plot_cat(df, feature):\n",
    "  plt.figure(figsize=(15,5))\n",
    "  sns.countplot(data=df,x=feature)\n",
    "  ax=sns.countplot(data=df,x=feature)"
   ]
  },
  {
   "cell_type": "markdown",
   "metadata": {},
   "source": [
    "### Categorical Data"
   ]
  },
  {
   "cell_type": "code",
   "execution_count": 17,
   "metadata": {
    "scrolled": true
   },
   "outputs": [
    {
     "data": {
      "image/png": "[encoded data removed]",
      "text/plain": [
       "<Figure size 1080x360 with 1 Axes>"
      ]
     },
     "metadata": {
      "needs_background": "light"
     },
     "output_type": "display_data"
    }
   ],
   "source": [
    "plot_cat(dataset, 'favorite_food')"
   ]
  },
  {
   "cell_type": "code",
   "execution_count": 18,
   "metadata": {},
   "outputs": [
    {
     "data": {
      "image/png": "[encoded data removed]",
      "text/plain": [
       "<Figure size 1080x360 with 1 Axes>"
      ]
     },
     "metadata": {
      "needs_background": "light"
     },
     "output_type": "display_data"
    }
   ],
   "source": [
    "plot_cat(dataset, 'location_preferred')"
   ]
  },
  {
   "cell_type": "markdown",
   "metadata": {},
   "source": [
    "## Bivariate Analysis"
   ]
  },
  {
   "cell_type": "code",
   "execution_count": 19,
   "metadata": {
    "scrolled": true
   },
   "outputs": [
    {
     "data": {
      "image/png": "[encoded data removed]",
      "text/plain": [
       "<Figure size 432x288 with 1 Axes>"
      ]
     },
     "metadata": {
      "needs_background": "light"
     },
     "output_type": "display_data"
    }
   ],
   "source": [
    "fig, ax = plt.subplots()\n",
    "ax.scatter(x = dataset['favorite_food'], y = dataset['delivery_preference'])\n",
    "plt.ylabel('delivery_preference')\n",
    "plt.xlabel('favorite_food')\n",
    "plt.show()"
   ]
  },
  {
   "cell_type": "code",
   "execution_count": 20,
   "metadata": {
    "scrolled": true
   },
   "outputs": [
    {
     "data": {
      "image/png": "[encoded data removed]",
      "text/plain": [
       "<Figure size 432x288 with 1 Axes>"
      ]
     },
     "metadata": {
      "needs_background": "light"
     },
     "output_type": "display_data"
    }
   ],
   "source": [
    "fig, ax = plt.subplots()\n",
    "ax.scatter(x = dataset['favorite_food'], y = dataset['month_cost'])\n",
    "plt.ylabel('month_cost')\n",
    "plt.xlabel('favorite_food')\n",
    "plt.show()"
   ]
  },
  {
   "cell_type": "code",
   "execution_count": 21,
   "metadata": {},
   "outputs": [
    {
     "data": {
      "image/png": "[encoded data removed]",
      "text/plain": [
       "<Figure size 432x288 with 1 Axes>"
      ]
     },
     "metadata": {
      "needs_background": "light"
     },
     "output_type": "display_data"
    }
   ],
   "source": [
    "fig, ax = plt.subplots()\n",
    "ax.scatter(x = dataset['favorite_food'], y = dataset['expected_food_price'])\n",
    "plt.ylabel('expected_food_price]')\n",
    "plt.xlabel('favorite_food')\n",
    "plt.show()"
   ]
  },
  {
   "cell_type": "code",
   "execution_count": null,
   "metadata": {},
   "outputs": [],
   "source": []
  },
  {
   "cell_type": "code",
   "execution_count": null,
   "metadata": {},
   "outputs": [],
   "source": []
  },
  {
   "cell_type": "code",
   "execution_count": 22,
   "metadata": {},
   "outputs": [],
   "source": [
    "label = dataset['delivery_preference']"
   ]
  },
  {
   "cell_type": "code",
   "execution_count": 23,
   "metadata": {},
   "outputs": [],
   "source": [
    "#encoder = LabelEncoder()"
   ]
  },
  {
   "cell_type": "code",
   "execution_count": 24,
   "metadata": {},
   "outputs": [],
   "source": [
    "#label = encoder.fit_transform(label)"
   ]
  },
  {
   "cell_type": "code",
   "execution_count": 25,
   "metadata": {},
   "outputs": [],
   "source": [
    "dataset.drop(['delivery_preference', 'id'], axis=1, inplace=True)"
   ]
  },
  {
   "cell_type": "markdown",
   "metadata": {},
   "source": [
    "## OneHot Representation"
   ]
  },
  {
   "cell_type": "code",
   "execution_count": 26,
   "metadata": {},
   "outputs": [],
   "source": [
    "dataset = pd.get_dummies(dataset)"
   ]
  },
  {
   "cell_type": "code",
   "execution_count": 27,
   "metadata": {},
   "outputs": [
    {
     "data": {
      "text/html": [
       "<div>\n",
       "<style scoped>\n",
       "    .dataframe tbody tr th:only-of-type {\n",
       "        vertical-align: middle;\n",
       "    }\n",
       "\n",
       "    .dataframe tbody tr th {\n",
       "        vertical-align: top;\n",
       "    }\n",
       "\n",
       "    .dataframe thead th {\n",
       "        text-align: right;\n",
       "    }\n",
       "</style>\n",
       "<table border=\"1\" class=\"dataframe\">\n",
       "  <thead>\n",
       "    <tr style=\"text-align: right;\">\n",
       "      <th></th>\n",
       "      <th>expected_food_price</th>\n",
       "      <th>month_cost</th>\n",
       "      <th>travel_budget</th>\n",
       "      <th>num_home_delivery</th>\n",
       "      <th>num_visit</th>\n",
       "      <th>monthly_earn</th>\n",
       "      <th>favorite_transport_bus</th>\n",
       "      <th>favorite_transport_car</th>\n",
       "      <th>favorite_transport_cycle</th>\n",
       "      <th>favorite_transport_rickshaw</th>\n",
       "      <th>...</th>\n",
       "      <th>rainy_season_pref_soup</th>\n",
       "      <th>rainy_season_pref_spicy</th>\n",
       "      <th>rainy_season_pref_tea</th>\n",
       "      <th>condition_pref_both</th>\n",
       "      <th>condition_pref_enviroment</th>\n",
       "      <th>condition_pref_environment</th>\n",
       "      <th>condition_pref_food</th>\n",
       "      <th>condition_pref_food_quality</th>\n",
       "      <th>condition_pref_fresh</th>\n",
       "      <th>condition_pref_good</th>\n",
       "    </tr>\n",
       "  </thead>\n",
       "  <tbody>\n",
       "    <tr>\n",
       "      <th>1</th>\n",
       "      <td>400.0</td>\n",
       "      <td>1000.0</td>\n",
       "      <td>6000.0</td>\n",
       "      <td>0.0</td>\n",
       "      <td>4.0</td>\n",
       "      <td>0.0</td>\n",
       "      <td>1</td>\n",
       "      <td>0</td>\n",
       "      <td>0</td>\n",
       "      <td>0</td>\n",
       "      <td>...</td>\n",
       "      <td>0</td>\n",
       "      <td>0</td>\n",
       "      <td>0</td>\n",
       "      <td>1</td>\n",
       "      <td>0</td>\n",
       "      <td>0</td>\n",
       "      <td>0</td>\n",
       "      <td>0</td>\n",
       "      <td>0</td>\n",
       "      <td>0</td>\n",
       "    </tr>\n",
       "    <tr>\n",
       "      <th>2</th>\n",
       "      <td>200.0</td>\n",
       "      <td>600.0</td>\n",
       "      <td>7500.0</td>\n",
       "      <td>1.0</td>\n",
       "      <td>4.0</td>\n",
       "      <td>0.0</td>\n",
       "      <td>1</td>\n",
       "      <td>0</td>\n",
       "      <td>0</td>\n",
       "      <td>0</td>\n",
       "      <td>...</td>\n",
       "      <td>0</td>\n",
       "      <td>0</td>\n",
       "      <td>0</td>\n",
       "      <td>0</td>\n",
       "      <td>0</td>\n",
       "      <td>0</td>\n",
       "      <td>1</td>\n",
       "      <td>0</td>\n",
       "      <td>0</td>\n",
       "      <td>0</td>\n",
       "    </tr>\n",
       "    <tr>\n",
       "      <th>3</th>\n",
       "      <td>150.0</td>\n",
       "      <td>150.0</td>\n",
       "      <td>5000.0</td>\n",
       "      <td>2.0</td>\n",
       "      <td>5.0</td>\n",
       "      <td>0.0</td>\n",
       "      <td>0</td>\n",
       "      <td>0</td>\n",
       "      <td>0</td>\n",
       "      <td>1</td>\n",
       "      <td>...</td>\n",
       "      <td>0</td>\n",
       "      <td>0</td>\n",
       "      <td>0</td>\n",
       "      <td>1</td>\n",
       "      <td>0</td>\n",
       "      <td>0</td>\n",
       "      <td>0</td>\n",
       "      <td>0</td>\n",
       "      <td>0</td>\n",
       "      <td>0</td>\n",
       "    </tr>\n",
       "    <tr>\n",
       "      <th>5</th>\n",
       "      <td>1500.0</td>\n",
       "      <td>3000.0</td>\n",
       "      <td>2500.0</td>\n",
       "      <td>2.0</td>\n",
       "      <td>5.0</td>\n",
       "      <td>1000.0</td>\n",
       "      <td>0</td>\n",
       "      <td>1</td>\n",
       "      <td>0</td>\n",
       "      <td>0</td>\n",
       "      <td>...</td>\n",
       "      <td>0</td>\n",
       "      <td>0</td>\n",
       "      <td>0</td>\n",
       "      <td>0</td>\n",
       "      <td>0</td>\n",
       "      <td>0</td>\n",
       "      <td>1</td>\n",
       "      <td>0</td>\n",
       "      <td>0</td>\n",
       "      <td>0</td>\n",
       "    </tr>\n",
       "    <tr>\n",
       "      <th>6</th>\n",
       "      <td>300.0</td>\n",
       "      <td>900.0</td>\n",
       "      <td>5000.0</td>\n",
       "      <td>2.0</td>\n",
       "      <td>5.0</td>\n",
       "      <td>0.0</td>\n",
       "      <td>0</td>\n",
       "      <td>0</td>\n",
       "      <td>0</td>\n",
       "      <td>1</td>\n",
       "      <td>...</td>\n",
       "      <td>0</td>\n",
       "      <td>0</td>\n",
       "      <td>0</td>\n",
       "      <td>1</td>\n",
       "      <td>0</td>\n",
       "      <td>0</td>\n",
       "      <td>0</td>\n",
       "      <td>0</td>\n",
       "      <td>0</td>\n",
       "      <td>0</td>\n",
       "    </tr>\n",
       "  </tbody>\n",
       "</table>\n",
       "<p>5 rows × 117 columns</p>\n",
       "</div>"
      ],
      "text/plain": [
       "   expected_food_price  month_cost  travel_budget  num_home_delivery  \\\n",
       "1                400.0      1000.0         6000.0                0.0   \n",
       "2                200.0       600.0         7500.0                1.0   \n",
       "3                150.0       150.0         5000.0                2.0   \n",
       "5               1500.0      3000.0         2500.0                2.0   \n",
       "6                300.0       900.0         5000.0                2.0   \n",
       "\n",
       "   num_visit  monthly_earn  favorite_transport_bus  favorite_transport_car  \\\n",
       "1        4.0           0.0                       1                       0   \n",
       "2        4.0           0.0                       1                       0   \n",
       "3        5.0           0.0                       0                       0   \n",
       "5        5.0        1000.0                       0                       1   \n",
       "6        5.0           0.0                       0                       0   \n",
       "\n",
       "   favorite_transport_cycle  favorite_transport_rickshaw         ...           \\\n",
       "1                         0                            0         ...            \n",
       "2                         0                            0         ...            \n",
       "3                         0                            1         ...            \n",
       "5                         0                            0         ...            \n",
       "6                         0                            1         ...            \n",
       "\n",
       "   rainy_season_pref_soup   rainy_season_pref_spicy  rainy_season_pref_tea  \\\n",
       "1                        0                        0                      0   \n",
       "2                        0                        0                      0   \n",
       "3                        0                        0                      0   \n",
       "5                        0                        0                      0   \n",
       "6                        0                        0                      0   \n",
       "\n",
       "   condition_pref_both  condition_pref_enviroment  condition_pref_environment  \\\n",
       "1                    1                          0                           0   \n",
       "2                    0                          0                           0   \n",
       "3                    1                          0                           0   \n",
       "5                    0                          0                           0   \n",
       "6                    1                          0                           0   \n",
       "\n",
       "   condition_pref_food  condition_pref_food_quality  condition_pref_fresh  \\\n",
       "1                    0                            0                     0   \n",
       "2                    1                            0                     0   \n",
       "3                    0                            0                     0   \n",
       "5                    1                            0                     0   \n",
       "6                    0                            0                     0   \n",
       "\n",
       "   condition_pref_good  \n",
       "1                    0  \n",
       "2                    0  \n",
       "3                    0  \n",
       "5                    0  \n",
       "6                    0  \n",
       "\n",
       "[5 rows x 117 columns]"
      ]
     },
     "execution_count": 27,
     "metadata": {},
     "output_type": "execute_result"
    }
   ],
   "source": [
    "dataset.head()"
   ]
  },
  {
   "cell_type": "markdown",
   "metadata": {},
   "source": [
    "****"
   ]
  },
  {
   "cell_type": "markdown",
   "metadata": {},
   "source": [
    "***"
   ]
  },
  {
   "cell_type": "code",
   "execution_count": 28,
   "metadata": {},
   "outputs": [],
   "source": [
    "from sklearn.tree import DecisionTreeClassifier\n",
    "from sklearn.naive_bayes import GaussianNB\n",
    "from sklearn.neighbors import KNeighborsClassifier\n",
    "from sklearn.ensemble import RandomForestClassifier\n",
    "from sklearn.linear_model import SGDClassifier\n",
    "from sklearn.neural_network import MLPClassifier\n",
    "from sklearn import linear_model\n",
    "from sklearn.metrics import accuracy_score, confusion_matrix, classification_report\n",
    "from sklearn.model_selection import train_test_split\n",
    "from sklearn.decomposition import PCA\n",
    "from sklearn.model_selection import StratifiedKFold"
   ]
  },
  {
   "cell_type": "code",
   "execution_count": 64,
   "metadata": {},
   "outputs": [],
   "source": [
    "X_train, X_test, Y_train, Y_test = train_test_split(dataset, label, test_size=0.30, shuffle=True)"
   ]
  },
  {
   "cell_type": "code",
   "execution_count": 65,
   "metadata": {},
   "outputs": [
    {
     "name": "stdout",
     "output_type": "stream",
     "text": [
      "(26, 117)\n"
     ]
    }
   ],
   "source": [
    "print(X_test.shape)"
   ]
  },
  {
   "cell_type": "markdown",
   "metadata": {},
   "source": [
    "## Feature Selection"
   ]
  },
  {
   "cell_type": "code",
   "execution_count": 66,
   "metadata": {},
   "outputs": [],
   "source": [
    "\n",
    "pca = PCA(n_components=10)\n",
    "\n",
    "X_train = pca.fit_transform(X_train)\n",
    "X_test = pca.transform(X_test)\n",
    "\n"
   ]
  },
  {
   "cell_type": "markdown",
   "metadata": {},
   "source": [
    "## Classification"
   ]
  },
  {
   "cell_type": "code",
   "execution_count": 67,
   "metadata": {},
   "outputs": [],
   "source": [
    "def conf_matrix(y_actual, y_pred):\n",
    "    y_actual = pd.Series(y_actual, name='Actual')\n",
    "    y_pred = pd.Series(y_pred, name='Predicted')\n",
    "    df_confusion = pd.crosstab(y_actual, y_pred)\n",
    "    return df_confusion"
   ]
  },
  {
   "cell_type": "code",
   "execution_count": 68,
   "metadata": {},
   "outputs": [],
   "source": [
    "def plot_conf_mat(lTrue, lPred, title):\n",
    "    \"\"\" A function for plotting the confusion matrix given true and predicted labels.\"\"\"\n",
    "    cm = confusion_matrix(lTrue,lPred)\n",
    "    print(cm)\n",
    "    fig = plt.figure()\n",
    "    ax = fig.add_subplot(111)\n",
    "    cax = ax.matshow(cm)\n",
    "    plt.title(title)\n",
    "    plt.xlabel('Predicted')\n",
    "    plt.ylabel('True')\n",
    "    plt.show()    "
   ]
  },
  {
   "cell_type": "code",
   "execution_count": 69,
   "metadata": {},
   "outputs": [],
   "source": [
    "models = {\n",
    "          'GaussianNB': GaussianNB(),\n",
    "          'Logistic': linear_model.LogisticRegression(C=1e5),\n",
    "          'Decision Tree': DecisionTreeClassifier(random_state=20160121, criterion='entropy'),\n",
    "          'K-NN ': KNeighborsClassifier(),\n",
    "          'Random Forest': RandomForestClassifier(),\n",
    "          'Stochastic Gradient Descent': SGDClassifier(),\n",
    "          'Multi-layer Perceptron': MLPClassifier()\n",
    "        }"
   ]
  },
  {
   "cell_type": "code",
   "execution_count": 70,
   "metadata": {},
   "outputs": [
    {
     "name": "stdout",
     "output_type": "stream",
     "text": [
      "                         Model  TF-IDF Accuracy\n",
      "0                   GaussianNB         0.846154\n",
      "1                     Logistic         0.846154\n",
      "2                Decision Tree         0.769231\n",
      "3                        K-NN          0.730769\n",
      "4                Random Forest         0.846154\n",
      "5  Stochastic Gradient Descent         0.576923\n",
      "6       Multi-layer Perceptron         0.692308\n",
      "\n",
      "\n",
      "Classification report for  GaussianNB\n",
      "              precision    recall  f1-score   support\n",
      "\n",
      "        home       0.60      0.60      0.60         5\n",
      "  restaurant       0.90      0.90      0.90        21\n",
      "\n",
      "   micro avg       0.85      0.85      0.85        26\n",
      "   macro avg       0.75      0.75      0.75        26\n",
      "weighted avg       0.85      0.85      0.85        26\n",
      "\n",
      "[[ 3  2]\n",
      " [ 2 19]]\n",
      "\n",
      "\n",
      "Classification report for  Logistic\n",
      "              precision    recall  f1-score   support\n",
      "\n",
      "        home       0.67      0.40      0.50         5\n",
      "  restaurant       0.87      0.95      0.91        21\n",
      "\n",
      "   micro avg       0.85      0.85      0.85        26\n",
      "   macro avg       0.77      0.68      0.70        26\n",
      "weighted avg       0.83      0.85      0.83        26\n",
      "\n",
      "[[ 2  3]\n",
      " [ 1 20]]\n",
      "\n",
      "\n",
      "Classification report for  Decision Tree\n",
      "              precision    recall  f1-score   support\n",
      "\n",
      "        home       0.40      0.40      0.40         5\n",
      "  restaurant       0.86      0.86      0.86        21\n",
      "\n",
      "   micro avg       0.77      0.77      0.77        26\n",
      "   macro avg       0.63      0.63      0.63        26\n",
      "weighted avg       0.77      0.77      0.77        26\n",
      "\n",
      "[[ 2  3]\n",
      " [ 3 18]]\n",
      "\n",
      "\n",
      "Classification report for  K-NN \n",
      "              precision    recall  f1-score   support\n",
      "\n",
      "        home       0.25      0.20      0.22         5\n",
      "  restaurant       0.82      0.86      0.84        21\n",
      "\n",
      "   micro avg       0.73      0.73      0.73        26\n",
      "   macro avg       0.53      0.53      0.53        26\n",
      "weighted avg       0.71      0.73      0.72        26\n",
      "\n",
      "[[ 1  4]\n",
      " [ 3 18]]\n",
      "\n",
      "\n",
      "Classification report for  Random Forest\n",
      "              precision    recall  f1-score   support\n",
      "\n",
      "        home       0.67      0.40      0.50         5\n",
      "  restaurant       0.87      0.95      0.91        21\n",
      "\n",
      "   micro avg       0.85      0.85      0.85        26\n",
      "   macro avg       0.77      0.68      0.70        26\n",
      "weighted avg       0.83      0.85      0.83        26\n",
      "\n",
      "[[ 2  3]\n",
      " [ 1 20]]\n",
      "\n",
      "\n",
      "Classification report for  Stochastic Gradient Descent\n",
      "              precision    recall  f1-score   support\n",
      "\n",
      "        home       0.20      0.40      0.27         5\n",
      "  restaurant       0.81      0.62      0.70        21\n",
      "\n",
      "   micro avg       0.58      0.58      0.58        26\n",
      "   macro avg       0.51      0.51      0.48        26\n",
      "weighted avg       0.69      0.58      0.62        26\n",
      "\n",
      "[[ 2  3]\n",
      " [ 8 13]]\n",
      "\n",
      "\n",
      "Classification report for  Multi-layer Perceptron\n",
      "              precision    recall  f1-score   support\n",
      "\n",
      "        home       0.29      0.40      0.33         5\n",
      "  restaurant       0.84      0.76      0.80        21\n",
      "\n",
      "   micro avg       0.69      0.69      0.69        26\n",
      "   macro avg       0.56      0.58      0.57        26\n",
      "weighted avg       0.74      0.69      0.71        26\n",
      "\n",
      "[[ 2  3]\n",
      " [ 5 16]]\n",
      "\n",
      "\n"
     ]
    }
   ],
   "source": [
    "results_svd = pd.DataFrame()\n",
    "\n",
    "foldnum = 0\n",
    "tfprediction = {}\n",
    "cprediction = {}\n",
    "\n",
    "for name, model in models.items():\n",
    "        model.fit(X_train, Y_train)\n",
    "        tfprediction[name] = model.predict(X_test)\n",
    "        tfaccuracy = accuracy_score(tfprediction[name], Y_test)\n",
    "\n",
    "        results_svd.loc[foldnum, 'Model'] = name\n",
    "        results_svd.loc[foldnum, 'TF-IDF Accuracy'] = tfaccuracy\n",
    "\n",
    "        foldnum = foldnum+1\n",
    "        #plot_decision_regions(X_train, Y_train, clf=model)\n",
    "        \n",
    "print(results_svd)\n",
    "print('\\n')\n",
    "for name, model in models.items():\n",
    "    print(\"Classification report for \", name)\n",
    "    print(classification_report(Y_test, tfprediction[name]))\n",
    "    cm = confusion_matrix(Y_test, tfprediction[name])\n",
    "    print(cm)\n",
    "    print(\"\\n\")"
   ]
  },
  {
   "cell_type": "code",
   "execution_count": null,
   "metadata": {},
   "outputs": [],
   "source": []
  },
  {
   "cell_type": "code",
   "execution_count": null,
   "metadata": {},
   "outputs": [],
   "source": []
  },
  {
   "cell_type": "code",
   "execution_count": null,
   "metadata": {},
   "outputs": [],
   "source": []
  },
  {
   "cell_type": "code",
   "execution_count": null,
   "metadata": {},
   "outputs": [],
   "source": []
  }
 ],
 "metadata": {
  "kernelspec": {
   "display_name": "Python 3",
   "language": "python",
   "name": "python3"
  },
  "language_info": {
   "codemirror_mode": {
    "name": "ipython",
    "version": 3
   },
   "file_extension": ".py",
   "mimetype": "text/x-python",
   "name": "python",
   "nbconvert_exporter": "python",
   "pygments_lexer": "ipython3",
   "version": "3.7.1"
  }
 },
 "nbformat": 4,
 "nbformat_minor": 2
}
